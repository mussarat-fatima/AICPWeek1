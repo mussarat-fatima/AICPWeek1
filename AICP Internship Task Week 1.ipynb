{
 "cells": [
  {
   "cell_type": "markdown",
   "id": "2c2dc4dd-9b87-4252-a000-4b69f908759b",
   "metadata": {},
   "source": [
    "# **AICP INTERNSHIP TASK**"
   ]
  },
  {
   "cell_type": "markdown",
   "id": "eca55122-9efa-47eb-991a-ec179f25818d",
   "metadata": {},
   "source": [
    "## **WEEK 1**"
   ]
  },
  {
   "cell_type": "code",
   "execution_count": 1,
   "id": "49bf785c-73ec-4c2b-a38b-d5f2a2aaceee",
   "metadata": {},
   "outputs": [],
   "source": [
    "import numpy as np\n",
    "from numpy import random"
   ]
  },
  {
   "cell_type": "markdown",
   "id": "99f4ee3a-5e12-49ab-985b-d5009bb9a2d2",
   "metadata": {},
   "source": [
    "### **- Task 1/7**\n",
    "Write a NumPy program to create an array of all even integers from 30 to 70."
   ]
  },
  {
   "cell_type": "code",
   "execution_count": 2,
   "id": "8e77e2ed-62bf-46d9-b24f-2c2247b13139",
   "metadata": {},
   "outputs": [],
   "source": [
    "array = np.arange(30,71,2)"
   ]
  },
  {
   "cell_type": "code",
   "execution_count": 3,
   "id": "15ef9a21-81da-4d86-bc6c-b6b196ea3796",
   "metadata": {},
   "outputs": [
    {
     "data": {
      "text/plain": [
       "array([30, 32, 34, 36, 38, 40, 42, 44, 46, 48, 50, 52, 54, 56, 58, 60, 62,\n",
       "       64, 66, 68, 70])"
      ]
     },
     "execution_count": 3,
     "metadata": {},
     "output_type": "execute_result"
    }
   ],
   "source": [
    "array "
   ]
  },
  {
   "cell_type": "markdown",
   "id": "f1d12702-059e-4142-b188-d5da2fdce4c4",
   "metadata": {},
   "source": [
    "### **- Task 2/7**\n",
    "Write a NumPy program to generate an array of 15 random numbers from a standard normal distribution."
   ]
  },
  {
   "cell_type": "code",
   "execution_count": 4,
   "id": "8c5d31cb-7990-4bd4-b8c7-04dd8fc2290a",
   "metadata": {},
   "outputs": [],
   "source": [
    "num = np.random.normal(loc=0.0, scale=1.0, size=(15,))"
   ]
  },
  {
   "cell_type": "code",
   "execution_count": 5,
   "id": "1cdde695-4979-4049-8cfa-e87b53707485",
   "metadata": {},
   "outputs": [
    {
     "data": {
      "text/plain": [
       "array([-0.62911824,  0.75459235, -0.94888161,  0.92134144, -1.90570544,\n",
       "       -1.28756059,  0.09659177, -0.13985912,  0.92401631,  0.67035498,\n",
       "       -0.77455937, -0.75678125, -0.36077009, -0.76661228, -2.10069751])"
      ]
     },
     "execution_count": 5,
     "metadata": {},
     "output_type": "execute_result"
    }
   ],
   "source": [
    "num"
   ]
  },
  {
   "cell_type": "markdown",
   "id": "268841c3-1f7e-4b7f-b5be-3a288d3e7d38",
   "metadata": {},
   "source": [
    "### **- Task 3/7**\n",
    "How to compute the cross-product of two matrices in NumPy?"
   ]
  },
  {
   "cell_type": "code",
   "execution_count": 6,
   "id": "79083e4d-644b-4871-a04c-2f5d7cdcfafc",
   "metadata": {},
   "outputs": [],
   "source": [
    "matrix1 = np.array([3, 4])"
   ]
  },
  {
   "cell_type": "code",
   "execution_count": 7,
   "id": "deaa86f8-588f-454a-8fb2-49926de26e51",
   "metadata": {},
   "outputs": [],
   "source": [
    "matrix2 = np.array([[2, 6], [7, 8]])"
   ]
  },
  {
   "cell_type": "code",
   "execution_count": 8,
   "id": "5bc48d3f-91ae-460c-ab10-595a7744b511",
   "metadata": {},
   "outputs": [
    {
     "data": {
      "text/plain": [
       "array([[1, 2],\n",
       "       [3, 4]])"
      ]
     },
     "execution_count": 8,
     "metadata": {},
     "output_type": "execute_result"
    }
   ],
   "source": [
    "matrix1"
   ]
  },
  {
   "cell_type": "code",
   "execution_count": 28,
   "id": "20a6ce60-4ff9-421b-b6ee-a1bd8e9a65c2",
   "metadata": {},
   "outputs": [
    {
     "data": {
      "text/plain": [
       "array([[2, 6],\n",
       "       [7, 8]])"
      ]
     },
     "execution_count": 28,
     "metadata": {},
     "output_type": "execute_result"
    }
   ],
   "source": [
    "matrix2"
   ]
  },
  {
   "cell_type": "code",
   "execution_count": 9,
   "id": "5f7f63dc-3349-42fc-a4e9-933ddb534fed",
   "metadata": {},
   "outputs": [],
   "source": [
    "product = np.cross(matrix1, matrix2)"
   ]
  },
  {
   "cell_type": "code",
   "execution_count": 10,
   "id": "b4119b8b-2330-4c6d-a336-3e3c8a5470a2",
   "metadata": {},
   "outputs": [
    {
     "data": {
      "text/plain": [
       "array([ 2, -4])"
      ]
     },
     "execution_count": 10,
     "metadata": {},
     "output_type": "execute_result"
    }
   ],
   "source": [
    "product"
   ]
  },
  {
   "cell_type": "markdown",
   "id": "cbe97210-0e81-41a6-8c7a-253dca0be870",
   "metadata": {},
   "source": [
    "### **- Task 4/7**\n",
    "How to compute the determinant of an array using NumPy?"
   ]
  },
  {
   "cell_type": "code",
   "execution_count": 11,
   "id": "7f721a0e-64e8-4d93-97da-6be92bf51354",
   "metadata": {},
   "outputs": [],
   "source": [
    "matrix = np.array([[2, 1], [4, 5]])"
   ]
  },
  {
   "cell_type": "code",
   "execution_count": 12,
   "id": "37e6be38-8bd6-4a6e-a166-f38e3f6f9abf",
   "metadata": {},
   "outputs": [],
   "source": [
    "determinant = np.linalg.det(matrix)"
   ]
  },
  {
   "cell_type": "code",
   "execution_count": 13,
   "id": "5618a502-e384-4bc5-8595-c77a2f4d9204",
   "metadata": {},
   "outputs": [
    {
     "data": {
      "text/plain": [
       "6.0"
      ]
     },
     "execution_count": 13,
     "metadata": {},
     "output_type": "execute_result"
    }
   ],
   "source": [
    "determinant"
   ]
  },
  {
   "cell_type": "markdown",
   "id": "ec5ddc16-d1ad-49fa-915d-fb771d7f3164",
   "metadata": {},
   "source": [
    "### **- Task 5/7**\n",
    "How to create a 3x3x3 array with random values using NumPy?"
   ]
  },
  {
   "cell_type": "code",
   "execution_count": 14,
   "id": "a930afb4-c3b1-4a19-9614-9b4b090e2535",
   "metadata": {},
   "outputs": [],
   "source": [
    "randarray = np.random.rand(3, 3, 3)"
   ]
  },
  {
   "cell_type": "code",
   "execution_count": 15,
   "id": "596f5000-0f20-45f4-8e16-0db08de421d0",
   "metadata": {},
   "outputs": [
    {
     "data": {
      "text/plain": [
       "array([[[0.96918492, 0.77179364, 0.83682752],\n",
       "        [0.24933882, 0.13174002, 0.36908409],\n",
       "        [0.75768993, 0.76657271, 0.31237797]],\n",
       "\n",
       "       [[0.17838595, 0.66908738, 0.64458544],\n",
       "        [0.6589266 , 0.38423105, 0.6386533 ],\n",
       "        [0.68544138, 0.95156144, 0.88354655]],\n",
       "\n",
       "       [[0.80236855, 0.06652327, 0.31611015],\n",
       "        [0.5672751 , 0.17166901, 0.8626153 ],\n",
       "        [0.03660395, 0.32033393, 0.65126635]]])"
      ]
     },
     "execution_count": 15,
     "metadata": {},
     "output_type": "execute_result"
    }
   ],
   "source": [
    "randarray"
   ]
  },
  {
   "cell_type": "markdown",
   "id": "7d0ccd10-7924-44a3-8169-804f1c5dd6fe",
   "metadata": {},
   "source": [
    "### **- Task 6/7**\n",
    "How to create a 5x5 array with random values and find the minimum and maximum values using\n",
    "NumPy?"
   ]
  },
  {
   "cell_type": "code",
   "execution_count": 16,
   "id": "a75ec353-42d3-45cc-bd48-291306e106a1",
   "metadata": {},
   "outputs": [],
   "source": [
    "array = np.random.rand(5, 5)"
   ]
  },
  {
   "cell_type": "code",
   "execution_count": 17,
   "id": "8f711e21-1c5f-4b84-b3f8-70dfa9d9954c",
   "metadata": {},
   "outputs": [
    {
     "data": {
      "text/plain": [
       "array([[0.50886713, 0.56877164, 0.40143625, 0.89373867, 0.00506519],\n",
       "       [0.6164433 , 0.23662475, 0.2613882 , 0.73488106, 0.8438975 ],\n",
       "       [0.77758317, 0.34158649, 0.98040552, 0.56186828, 0.80123689],\n",
       "       [0.29812199, 0.82632189, 0.16762767, 0.42525921, 0.0420796 ],\n",
       "       [0.14467413, 0.90636146, 0.56156105, 0.4998305 , 0.21669499]])"
      ]
     },
     "execution_count": 17,
     "metadata": {},
     "output_type": "execute_result"
    }
   ],
   "source": [
    "array"
   ]
  },
  {
   "cell_type": "code",
   "execution_count": 18,
   "id": "3370044d-42f7-4a43-9b74-ea8d0e0791ac",
   "metadata": {},
   "outputs": [],
   "source": [
    "min_value = np.min(array)\n",
    "max_value = np.max(array)"
   ]
  },
  {
   "cell_type": "code",
   "execution_count": 19,
   "id": "8efa8ee1-c0a3-4bfe-a6a6-c25139c146c4",
   "metadata": {},
   "outputs": [
    {
     "name": "stdout",
     "output_type": "stream",
     "text": [
      "Minimum value: 0.005065188143084209\n"
     ]
    }
   ],
   "source": [
    "print(\"Minimum value:\", min_value)"
   ]
  },
  {
   "cell_type": "code",
   "execution_count": 20,
   "id": "54dddb52-9a88-488b-9fea-218940a3c983",
   "metadata": {},
   "outputs": [
    {
     "name": "stdout",
     "output_type": "stream",
     "text": [
      "Maximum value: 0.9804055236864606\n"
     ]
    }
   ],
   "source": [
    "print(\"Maximum value:\", max_value)"
   ]
  },
  {
   "cell_type": "markdown",
   "id": "9ce006a0-b9c2-4cfd-af34-0ca7aa0c2f1c",
   "metadata": {},
   "source": [
    "### **- Task 7/7**\n",
    "How to compute the mean, standard deviation, and variance of a given array along the second axis in\n",
    "NumPy?"
   ]
  },
  {
   "cell_type": "code",
   "execution_count": 21,
   "id": "7886b7b7-56e7-4831-9479-e6feca8bf00c",
   "metadata": {},
   "outputs": [],
   "source": [
    "arr = np.array([[1, 2, 3], [4, 5, 6], [7, 8, 9]])"
   ]
  },
  {
   "cell_type": "code",
   "execution_count": 22,
   "id": "cccf3d4d-6838-4a83-88fd-3f436b239687",
   "metadata": {},
   "outputs": [],
   "source": [
    "mean = np.mean(arr, axis=1)"
   ]
  },
  {
   "cell_type": "code",
   "execution_count": 23,
   "id": "804f1dee-c67c-4d8b-a382-d79586aeba23",
   "metadata": {},
   "outputs": [
    {
     "name": "stdout",
     "output_type": "stream",
     "text": [
      "Mean: [2. 5. 8.]\n"
     ]
    }
   ],
   "source": [
    "print(\"Mean:\", mean)"
   ]
  },
  {
   "cell_type": "code",
   "execution_count": 24,
   "id": "c6ac78cc-3178-44e9-bd23-44174890ac5a",
   "metadata": {},
   "outputs": [],
   "source": [
    "std = np.std(arr, axis=1)"
   ]
  },
  {
   "cell_type": "code",
   "execution_count": 25,
   "id": "64d868c1-ef55-494d-b00b-70d74aa3c114",
   "metadata": {},
   "outputs": [
    {
     "name": "stdout",
     "output_type": "stream",
     "text": [
      "Standard deviation: [0.81649658 0.81649658 0.81649658]\n"
     ]
    }
   ],
   "source": [
    "print(\"Standard deviation:\", std)"
   ]
  },
  {
   "cell_type": "code",
   "execution_count": 26,
   "id": "d004dc7f-9a21-4442-969f-dc12929c7390",
   "metadata": {},
   "outputs": [],
   "source": [
    "variance = np.var(arr, axis=1)"
   ]
  },
  {
   "cell_type": "code",
   "execution_count": 27,
   "id": "2e458f00-8910-4590-a430-40d4c5d587d6",
   "metadata": {},
   "outputs": [
    {
     "name": "stdout",
     "output_type": "stream",
     "text": [
      "Variance]: [0.66666667 0.66666667 0.66666667]\n"
     ]
    }
   ],
   "source": [
    "print(\"Variance]:\", variance)"
   ]
  },
  {
   "cell_type": "markdown",
   "id": "5a46dc3f-de63-4775-92a1-97bac3d5120a",
   "metadata": {},
   "source": [
    "**Thankyou :)**"
   ]
  }
 ],
 "metadata": {
  "kernelspec": {
   "display_name": "Python 3 (ipykernel)",
   "language": "python",
   "name": "python3"
  },
  "language_info": {
   "codemirror_mode": {
    "name": "ipython",
    "version": 3
   },
   "file_extension": ".py",
   "mimetype": "text/x-python",
   "name": "python",
   "nbconvert_exporter": "python",
   "pygments_lexer": "ipython3",
   "version": "3.12.2"
  }
 },
 "nbformat": 4,
 "nbformat_minor": 5
}
